{
  "cells": [
    {
      "cell_type": "markdown",
      "metadata": {
        "id": "BIC1YXDzY2Z-"
      },
      "source": [
        "# Analise e modelo para predição de vida útil restante de motores\n",
        "\n",
        "---\n",
        "\n",
        "Variaveis:\n",
        "\n",
        " - **dataset**: string\n",
        "\n",
        " Nome do arquivo h5 usado para a analise.\n",
        "\n",
        " - **carregar_modelos_github**: boolean\n",
        "\n",
        "   - Baixa o dataset e os modelos pré-treinados no repo do github. Opção mais rápida, porém não suporta escrita de novos modelos.\n",
        "\n",
        " - **usar_gdrive**: boolean\n",
        " \n",
        "   - Buscará o arquivo `dataset` e os modelos no Google Drive, dentro do diretório `Meu disco > tcc-machine-learning`. É necessário permissão de acesso ao GDrive e também que os arquivos sejam disponibilizados previamente no diretório. Está opção suporta também a escrita de novos modelos no caminho citado.\n",
        "\n",
        " - Caso ambos `carregar_modelos_github` e `usar_gdrive` sejam `False` o *notebook* baixará o ZIP completo (16gb) do repositório da NASA e extrairá o arquivo `dataset` toda vez que for iniciado. Este processo demora entre 20 e 50 minutos, dependendo da velocidade da rede entre Google e o repositório. Além disso, esta opção não oferece nenhum modelo pré-treinado."
      ]
    },
    {
      "cell_type": "code",
      "execution_count": null,
      "metadata": {
        "id": "gOEwuAoNX8MA"
      },
      "outputs": [],
      "source": [
        "dataset = 'N-CMAPSS_DS02-006.h5'\n",
        "carregar_modelos_github = True\n",
        "usar_gdrive = False"
      ]
    },
    {
      "cell_type": "markdown",
      "metadata": {
        "id": "CvqzAiJFUhr9"
      },
      "source": [
        "## 01 - Baixar os datasets e extrai-los\n",
        "\n",
        "Link disponível em:\n",
        "\n",
        " - https://www.nasa.gov/content/prognostics-center-of-excellence-data-set-repository\n",
        " - https://github.com/leomarssilva/projeto-final-engenharia-uff/releases/\n",
        "\n",
        "Obs.: é recomendado ao menos 60gb de espaço livre para poder baixar e extrair os datasets."
      ]
    },
    {
      "cell_type": "code",
      "execution_count": null,
      "metadata": {
        "id": "jQzs5RtLkrao"
      },
      "outputs": [],
      "source": [
        "from google.colab import drive\n",
        "\n",
        "def monta_drive():\n",
        "  raiz = '/content/drive'\n",
        "  drive.mount(raiz)\n",
        "  caminho_tcc = f'{raiz}/MyDrive/tcc-machine-learning'\n",
        "  return caminho_tcc\n"
      ]
    },
    {
      "cell_type": "code",
      "execution_count": null,
      "metadata": {
        "id": "BKrn4t8wS2-s"
      },
      "outputs": [],
      "source": [
        "if usar_gdrive:\n",
        "  caminho_tcc = monta_drive()\n",
        "  caminho_dataset = f'/{dataset}'\n",
        "  !rsync -h --progress $caminho_tcc/$dataset $caminho_dataset\n",
        "elif carregar_modelos_github:\n",
        "  caminho_dataset = f'/{dataset}'\n",
        "  !curl -L https://github.com/leomarssilva/projeto-final-engenharia-uff/releases/download/v0.0.1/N-CMAPSS_DS02-006.h5.gz | gzip -d -c > $caminho_dataset\n",
        "else:\n",
        "  caminho_dataset = f'data_set/{dataset}'\n",
        "  !curl https://phm-datasets.s3.amazonaws.com/NASA/17.+Turbofan+Engine+Degradation+Simulation+Data+Set+2.zip | jar xv\n",
        "  !unzip '17. Turbofan Engine Degradation Simulation Data Set 2/data_set.zip'\n",
        "  !rm -fr '17. Turbofan Engine Degradation Simulation Data Set 2/'\n"
      ]
    },
    {
      "cell_type": "markdown",
      "metadata": {
        "id": "y3QTT-1oVp-G"
      },
      "source": [
        "## 02 - Importar bibliotecas e carregar os dados"
      ]
    },
    {
      "cell_type": "code",
      "execution_count": null,
      "metadata": {
        "id": "UQPExnL2V87u"
      },
      "outputs": [],
      "source": [
        "!pip install joblib\n",
        "\n",
        "from collections import namedtuple\n",
        "from datetime import datetime\n",
        "\n",
        "import sys\n",
        "\n",
        "# bibliotecas do serialização\n",
        "import h5py\n",
        "from joblib import dump, load\n",
        "\n",
        "# bibliotecas numéricas\n",
        "import numpy as np\n",
        "import pandas as pd\n",
        "from scipy.stats import randint, loguniform\n",
        "from pandas import DataFrame\n",
        "\n",
        "# ferramentas de visualização\n",
        "import matplotlib\n",
        "import matplotlib.pyplot as plt\n",
        "\n",
        "# ferramentas de machine learning\n",
        "import sklearn\n",
        "from sklearn.compose import TransformedTargetRegressor\n",
        "from sklearn.preprocessing import MinMaxScaler\n",
        "from sklearn.pipeline import Pipeline\n",
        "from sklearn.base import RegressorMixin\n",
        "from sklearn.metrics import mean_squared_error, r2_score\n",
        "from sklearn.model_selection import RandomizedSearchCV\n",
        "from sklearn.linear_model import Ridge, LinearRegression\n",
        "from sklearn.neighbors import KNeighborsRegressor\n",
        "from sklearn.ensemble import RandomForestRegressor\n",
        "from sklearn.model_selection import KFold\n",
        "\n",
        "# exibir os gráficos no jupyter\n",
        "%matplotlib inline\n",
        "\n",
        "# formatar os pontos flutuantes para exibir 5 casas decimais\n",
        "pd.set_option('display.float_format', '{:.5f}'.format)\n",
        "\n",
        "# exibe diagramas interativos dos estimadores\n",
        "sklearn.set_config(display=\"diagram\")\n",
        "\n",
        "print(\"Python\", sys.version)\n",
        "print(\"Numpy\", np.__version__)\n",
        "print(\"Pandas\", pd.__version__)\n",
        "print(\"Matplotlib\", matplotlib.__version__)\n",
        "print(\"Sklearn\", sklearn.__version__)"
      ]
    },
    {
      "cell_type": "code",
      "execution_count": null,
      "metadata": {
        "id": "y2NGUgJiWB_L"
      },
      "outputs": [],
      "source": [
        "def renomeia_descr(df):\n",
        "   return df.rename(columns={\n",
        "        \"alt\": \"Altitude\",\n",
        "        \"Mach\": \"Flight Mach number\",\n",
        "        \"TRA\": \"Throttle–resolver angle\",\n",
        "        \"T2\": \"Total temperature at fan inlet\",\n",
        "   })\n",
        "   \n",
        "def renomeia_sensores(df):\n",
        "   return df.rename(columns={\n",
        "        \"Wf\": \"Fuel flow\",\n",
        "        \"Nf\": \"Physical fan speed\",\n",
        "        \"Nc\": \"Physical core speed\",\n",
        "        \"T24\": \"Total temperature at LPC outlet\",\n",
        "        \"T30\": \"Total temperature at HPC outlet\",\n",
        "        \"T48\": \"Total temperature at HPT outlet\",\n",
        "        \"T50\": \"Total temperature at LPT outlet\",\n",
        "        \"P15\": \"Total pressure in bypass-duct\",\n",
        "        \"P2\": \"Total pressure at fan inlet\",\n",
        "        \"P21\": \"Total pressure at fan outlet\",\n",
        "        \"P24\": \"Total pressure at LPC outlet\",\n",
        "        \"Ps30\": \"Static pressure at HPC outlet\",\n",
        "        \"P40\": \"Total pressure at burner outlet\",\n",
        "        \"P50\": \"Total pressure at LPT outlet\",\n",
        "    })\n",
        "\n",
        "with h5py.File(caminho_dataset, 'r') as hdf:\n",
        "  def pega_df(dataset, variavel, nome_colunas = None):\n",
        "    if not nome_colunas:\n",
        "        nome_colunas = np.array(hdf.get(f'{variavel}_var'), dtype=np.unicode_)\n",
        "    dataframe_numpy = np.array(hdf.get(f'{variavel}_{dataset}'))\n",
        "    return pd.DataFrame(dataframe_numpy, columns=nome_colunas)\n",
        "  \n",
        "  A_dev   = pega_df('dev', 'A').astype('int')\n",
        "  W_dev   = renomeia_descr(pega_df('dev', 'W'))\n",
        "  X_s_dev = renomeia_sensores(pega_df('dev', 'X_s'))\n",
        "  Y_dev   = pega_df('dev', 'Y', ['RUL'])\n",
        "  dev     = pd.concat([A_dev, W_dev, X_s_dev, Y_dev], ignore_index=False, axis=1)\n",
        "\n",
        "  A_test   = pega_df('test', 'A').astype('int')\n",
        "  W_test   = renomeia_descr(pega_df('test', 'W'))\n",
        "  X_s_test = renomeia_sensores(pega_df('test', 'X_s'))\n",
        "  Y_test   = pega_df('test', 'Y', ['RUL'])\n",
        "  test     = pd.concat([A_test, W_test, X_s_test, Y_test], ignore_index=False, axis=1)"
      ]
    },
    {
      "cell_type": "markdown",
      "metadata": {
        "id": "B6tmTUxrOnj5"
      },
      "source": [
        "## 03 - Analise exploratória"
      ]
    },
    {
      "cell_type": "markdown",
      "metadata": {
        "id": "2WZzfmOJPCIy"
      },
      "source": [
        "### 03.1 - Descrição dos dados"
      ]
    },
    {
      "cell_type": "code",
      "execution_count": null,
      "metadata": {
        "id": "qNRIrK1QekdP"
      },
      "outputs": [],
      "source": [
        "A_dev.describe().T"
      ]
    },
    {
      "cell_type": "code",
      "execution_count": null,
      "metadata": {
        "id": "Q33D6D4YPuWe"
      },
      "outputs": [],
      "source": [
        "W_dev.describe().T"
      ]
    },
    {
      "cell_type": "code",
      "execution_count": null,
      "metadata": {
        "id": "-Fc1St9bPu8k"
      },
      "outputs": [],
      "source": [
        "X_s_dev.describe().T"
      ]
    },
    {
      "cell_type": "code",
      "execution_count": null,
      "metadata": {
        "id": "a6Dmcf8mPwOI"
      },
      "outputs": [],
      "source": [
        "Y_dev.describe().T"
      ]
    },
    {
      "cell_type": "markdown",
      "metadata": {
        "id": "6CsSc9wjP0La"
      },
      "source": [
        "### 03.2 - Informações"
      ]
    },
    {
      "cell_type": "markdown",
      "metadata": {
        "id": "Ml3DPvXSQDXx"
      },
      "source": [
        "#### 03.2.1 - Total de eventos por unidade"
      ]
    },
    {
      "cell_type": "code",
      "execution_count": null,
      "metadata": {
        "id": "rXjyz063P6DC"
      },
      "outputs": [],
      "source": [
        "dev.groupby('unit').size()"
      ]
    },
    {
      "cell_type": "markdown",
      "metadata": {
        "id": "pCJruZ1-QKMO"
      },
      "source": [
        "#### 03.2.2 - Quantidade de ciclos e RUL por unidade\n",
        "\n",
        "O número de ciclos é uma unidade acima do RUL, visto que o último ciclo tem RUL = 0"
      ]
    },
    {
      "cell_type": "code",
      "execution_count": null,
      "metadata": {
        "id": "3AcWwkCpQJE9"
      },
      "outputs": [],
      "source": [
        "dev.groupby('unit')[['cycle', 'RUL']].max()"
      ]
    },
    {
      "cell_type": "markdown",
      "metadata": {
        "id": "wF3HDJxcQbFe"
      },
      "source": [
        "#### 03.2.3 - Quantidade de amostras por ciclo"
      ]
    },
    {
      "cell_type": "code",
      "execution_count": null,
      "metadata": {
        "id": "x67MWmGnQU0R"
      },
      "outputs": [],
      "source": [
        "quantidade_eventos_ciclos = dev.groupby(['unit','cycle']).cycle.size()\n",
        "quantidade_eventos_ciclos.groupby('unit').describe()"
      ]
    },
    {
      "cell_type": "markdown",
      "metadata": {
        "id": "c4HOf45wQrVv"
      },
      "source": [
        "#### 03.2.4 - Verificar se algum item é nulo (NaN - not a number)\n",
        "\n",
        "0 rows = nenhum item nulo"
      ]
    },
    {
      "cell_type": "code",
      "execution_count": null,
      "metadata": {
        "id": "I7jlcamjQiWI"
      },
      "outputs": [],
      "source": [
        "dev[dev.isna().any(axis=1)]"
      ]
    },
    {
      "cell_type": "markdown",
      "metadata": {
        "id": "8H-n8VZgQ2Gp"
      },
      "source": [
        "#### 03.2.5 - Quais colunas permanecem constantes por unidades?"
      ]
    },
    {
      "cell_type": "code",
      "execution_count": null,
      "metadata": {
        "id": "bz1vlNTAQ_O8"
      },
      "outputs": [],
      "source": [
        "itens_sem_varianca_unit = (dev.groupby(['unit'], as_index = False).std() == 0.0).all(axis = 0)\n",
        "itens_sem_varianca_unit = set(itens_sem_varianca_unit[itens_sem_varianca_unit].keys())\n",
        "pd.DataFrame(itens_sem_varianca_unit)"
      ]
    },
    {
      "cell_type": "markdown",
      "metadata": {
        "id": "QSuQsopcRFWP"
      },
      "source": [
        "#### 03.2.6 - Quais colunas permanecem constantes dentro dos ciclos?"
      ]
    },
    {
      "cell_type": "code",
      "execution_count": null,
      "metadata": {
        "id": "RfIbtDz5RMK8"
      },
      "outputs": [],
      "source": [
        "itens_sem_varianca_ciclos = (dev.groupby(['unit', 'cycle'], as_index = False).std() == 0.0).all(axis = 0)\n",
        "itens_sem_varianca_ciclos = set(itens_sem_varianca_ciclos[itens_sem_varianca_ciclos].keys())\n",
        "pd.DataFrame(itens_sem_varianca_ciclos)"
      ]
    },
    {
      "cell_type": "markdown",
      "metadata": {
        "id": "jvRxidB1RPDc"
      },
      "source": [
        "#### 03.2.7 - Quais colunas alteram somente entre ciclos?"
      ]
    },
    {
      "cell_type": "code",
      "execution_count": null,
      "metadata": {
        "id": "TYyMh6T0RcCo"
      },
      "outputs": [],
      "source": [
        "pd.DataFrame(itens_sem_varianca_ciclos.difference(itens_sem_varianca_unit))"
      ]
    },
    {
      "cell_type": "markdown",
      "metadata": {
        "id": "ZMnuQmlHRSjE"
      },
      "source": [
        "#### 03.2.8 - Em qual ciclo o status de saúde do motor (Hs) muda de saudável (1) para não saudável (0)?"
      ]
    },
    {
      "cell_type": "code",
      "execution_count": null,
      "metadata": {
        "id": "MsiCEXOoRoL3"
      },
      "outputs": [],
      "source": [
        "pd.DataFrame(A_dev[ A_dev[\"hs\"] == 0 ].groupby(\"unit\")[\"cycle\"].min())"
      ]
    },
    {
      "cell_type": "markdown",
      "metadata": {
        "id": "bgiyA1C3Rwt4"
      },
      "source": [
        "### 03.3 Gráficos"
      ]
    },
    {
      "cell_type": "markdown",
      "metadata": {
        "id": "mwjCGfqZSLLd"
      },
      "source": [
        "#### 03.3.1 - Funções auxiliares"
      ]
    },
    {
      "cell_type": "code",
      "execution_count": null,
      "metadata": {
        "id": "B5kr9uyCSGdm"
      },
      "outputs": [],
      "source": [
        "## gerar contadores:\n",
        "## 1 - com porcentagem de conclusão do ciclo (indice_linha_pct)\n",
        "## 2 - porcentagem acumulativa e fracionada de ciclo (ciclo_acc)\n",
        "## 3 - RUL fracionado (rul_frac)\n",
        "\n",
        "## agrupa os dados por unidade e ciclo. Desta forma diferentes ciclos são tratados separadamente.\n",
        "dados_por_ciclo = dev.groupby([ 'unit', 'cycle'])\n",
        "\n",
        "## cria coluna com contador 1, 2,...,n dentro de cada ciclo/unidade\n",
        "dev['indice_linha'] = dados_por_ciclo.cumcount()\n",
        "\n",
        "## pega o total de linhas em cada ciclo/unidade \n",
        "dev['total_linhas'] = dados_por_ciclo['indice_linha'].transform(np.count_nonzero)\n",
        "\n",
        "## transforma em porcentagem de conclusão do ciclo. \n",
        "dev['indice_linha_pct'] = dev['indice_linha']  / dev['total_linhas']\n",
        "\n",
        "## adiciona ao acumulador\n",
        "## Para tornar mais visível, transformamos 100% de conclusão do voo em 99%\n",
        "## desta forma, ao final do ciclo 5 temos indice_linha_pct = 5.99 e não 6.00\n",
        "dev['ciclo_acc'] = dev['cycle'] + dev['indice_linha_pct'] * 0.99\n",
        "dev['RUL_frac'] = dev['RUL'] + (0.99 - dev['indice_linha_pct'] * 0.99)\n",
        "\n",
        "# dev = dev.drop(columns=['indice_linha', 'total_linhas', 'indice_linha_pct'])"
      ]
    },
    {
      "cell_type": "code",
      "execution_count": null,
      "metadata": {
        "id": "l8vRQevBSS4u"
      },
      "outputs": [],
      "source": [
        "# gera um gráfico plotando todos os ciclos de uma unidade\n",
        "\n",
        "def gera_grafico(ax, num_unidade, coluna):\n",
        "    unidade = dev[dev['unit'] == num_unidade]\n",
        "    ciclo_max = unidade['cycle'].max()\n",
        "\n",
        "    for i in range(1, ciclo_max + 1):\n",
        "        ciclo = unidade[unidade['cycle'] == i ]\n",
        "        x = ciclo['indice_linha']\n",
        "        y = ciclo[coluna]\n",
        "        alpha = 0.05 + (i / ciclo_max) * 0.95\n",
        "        ax.plot(x, y, label=i, alpha=alpha)\n",
        "    ax.set_title(coluna)"
      ]
    },
    {
      "cell_type": "markdown",
      "metadata": {
        "id": "IxvBrxp3SXVN"
      },
      "source": [
        "#### 03.3.2 - A (descrição)"
      ]
    },
    {
      "cell_type": "code",
      "execution_count": null,
      "metadata": {
        "id": "cakhU8dYSUZA"
      },
      "outputs": [],
      "source": [
        "fig, ((ax1, ax2), (ax3, ax4)) = plt.subplots(2, 2, figsize=(15, 7))\n",
        "fig.subplots_adjust(hspace=0.4)\n",
        "\n",
        "gera_grafico(ax1, 2, 'Altitude')\n",
        "gera_grafico(ax2, 2, 'Flight Mach number')\n",
        "\t\n",
        "gera_grafico(ax3, 2, 'Throttle–resolver angle')\n",
        "gera_grafico(ax4, 2, 'Total temperature at fan inlet')"
      ]
    },
    {
      "cell_type": "markdown",
      "metadata": {
        "id": "xG1HYuzgcoQ6"
      },
      "source": [
        "#### 03.3.3 - Correlação dentro de um ciclo"
      ]
    },
    {
      "cell_type": "code",
      "execution_count": null,
      "metadata": {
        "id": "Zy9E3wiASf9x"
      },
      "outputs": [],
      "source": [
        "num_unidade = 2\n",
        "ciclo = 1\n",
        "\n",
        "## removemos as colunas sem alteração ou que não fazem parte da predição de correlação\n",
        "unidade = dev[ (dev['unit'] == num_unidade) & (dev['cycle'] == ciclo)].drop(columns=['unit', 'cycle', 'Fc', 'hs', 'RUL', 'indice_linha', 'total_linhas', 'indice_linha_pct', 'ciclo_acc', 'RUL_frac'])\n",
        "\n",
        "correlacao = unidade.corr()\n",
        "correlacao.style.background_gradient(cmap='coolwarm', vmin=-1, vmax=1)"
      ]
    },
    {
      "cell_type": "code",
      "execution_count": null,
      "metadata": {
        "id": "AlfEt5zpczcW"
      },
      "outputs": [],
      "source": [
        "# Mostrar a correlação somente com os dados de W_dev\n",
        "remover_colunas = set(unidade.columns).difference(set(W_dev.columns))\n",
        "correlacao.drop(columns=remover_colunas).style.background_gradient(cmap='coolwarm', vmin=-1, vmax=1)"
      ]
    },
    {
      "cell_type": "markdown",
      "metadata": {
        "id": "0mrA0tnuc2rZ"
      },
      "source": [
        "Nota: é possível ver que `Total pressure in bypass-duct` tem correlação de 1 com `Total pressure at fan outlet`"
      ]
    },
    {
      "cell_type": "markdown",
      "metadata": {
        "id": "jKKqt5t2dpkg"
      },
      "source": [
        "## 04 - Modelagem"
      ]
    },
    {
      "cell_type": "markdown",
      "metadata": {
        "id": "V_U56iWHqmZx"
      },
      "source": [
        "### 04.01 - Diagrama do modelo\n",
        "\n",
        "Os items em **vermelho** são usados somente durante o treino.\n",
        "\n",
        "[![](https://mermaid.ink/img/pako:eNqlVU1u00AUvsrIKEoqJbSJAVEjVari7urEsoWEZLMYPM_JqM6MNR4TSpotB0C9QGEB98i-h-AkPNtJajtBCGFLyfP7vvc_PysjkgwMy-h0VoQLri2y6saJXEZzqnQXv0g3ytVHQLG7kEJqKeBdl6yLt9MJRSj2bHLthYLgk-UfZoqmc3IltKKMBtv_9xVcPLYf9BhlMgtDkYHIpILspIa706CXUkUXoFVJkikoGnEpKG8QvbfXQQ9_6rpM3yZQICgpeQOWAtavxMGSMz23RumnfiQTqeoQoxmWoeitRUxiVu5AsEpwp4PBxcSdNiIPng8u7rQCLuSdsy3e9uvaie23euLyFBIuINgJ9cT3jRsGV5nePMy4JMMaoXjQ5Wo1kWpBE_6Zbn5svksyydbrFsudHrKWbZY9QV82iAavTXL8Hk1mUnG9kMQ_OcimqNfxD8IPDrWOj0qM2dRW43J8EvMksZZzruEYASP9_zwbM222fPTU8lGr5ZfuOAgNOlN5iitSaIkLMpWKRDxKCtntPd5HJ-TXl6_k8WdotKzHNhqPNw9JlCeSMEADxjHUNxFxih92z--T8db8vmFepnosWfMpWbMVzvGCp3F5B7ngBLCcg_qKaXlN7dEpeUen1GipXUx5bNcUk7amXB37NPbW-_p8yhmtbbXx5XVwihsOuxXRoo94dJzWSnM89Few2g7LpK-GVdLP4FXMABrQaAedxy_j8wZkbqE4BjNqOqzOsy3OzPgsjuv4bmvvHLwu3jqhrG-HnsFZ_KJC0ejGLxnDP651M_30ps0e_RPb_Avb6BsLwBOBM7wYVoV1aOg5LCA0LBQZxDRPdGiEYo1Ummvp34rIsLTKoW_kKaMabI7bhS4MK6ZJhlpgXEvlVJdNeeesfwMbQ_5Z?type=jpg)](https://mermaid.live/edit#pako:eNqlVU1u00AUvsrIKEoqJbSJAVEjVari7urEsoWEZLMYPM_JqM6MNR4TSpotB0C9QGEB98i-h-AkPNtJajtBCGFLyfP7vvc_PysjkgwMy-h0VoQLri2y6saJXEZzqnQXv0g3ytVHQLG7kEJqKeBdl6yLt9MJRSj2bHLthYLgk-UfZoqmc3IltKKMBtv_9xVcPLYf9BhlMgtDkYHIpILspIa706CXUkUXoFVJkikoGnEpKG8QvbfXQQ9_6rpM3yZQICgpeQOWAtavxMGSMz23RumnfiQTqeoQoxmWoeitRUxiVu5AsEpwp4PBxcSdNiIPng8u7rQCLuSdsy3e9uvaie23euLyFBIuINgJ9cT3jRsGV5nePMy4JMMaoXjQ5Wo1kWpBE_6Zbn5svksyydbrFsudHrKWbZY9QV82iAavTXL8Hk1mUnG9kMQ_OcimqNfxD8IPDrWOj0qM2dRW43J8EvMksZZzruEYASP9_zwbM222fPTU8lGr5ZfuOAgNOlN5iitSaIkLMpWKRDxKCtntPd5HJ-TXl6_k8WdotKzHNhqPNw9JlCeSMEADxjHUNxFxih92z--T8db8vmFepnosWfMpWbMVzvGCp3F5B7ngBLCcg_qKaXlN7dEpeUen1GipXUx5bNcUk7amXB37NPbW-_p8yhmtbbXx5XVwihsOuxXRoo94dJzWSnM89Few2g7LpK-GVdLP4FXMABrQaAedxy_j8wZkbqE4BjNqOqzOsy3OzPgsjuv4bmvvHLwu3jqhrG-HnsFZ_KJC0ejGLxnDP651M_30ps0e_RPb_Avb6BsLwBOBM7wYVoV1aOg5LCA0LBQZxDRPdGiEYo1Ummvp34rIsLTKoW_kKaMabI7bhS4MK6ZJhlpgXEvlVJdNeeesfwMbQ_5Z)\n"
      ]
    },
    {
      "cell_type": "markdown",
      "metadata": {
        "id": "rwRfSA6F0dxA"
      },
      "source": [
        "### 04.02 Fluxo do algoritmo\n",
        "\n",
        "O algoritmo é dividido em 3 estágios e compara os valores de $X_s$ com valores estimados para sensores de componentes novos (primeiros $N$ ciclos, com pouco desgaste). Como os valores de $X_s$ tendem a se distanciar dos valores simulados a medida em que há aumento do desgaste, é possível usar essa diferença para calcular a vida útil restante.\n",
        "\n",
        " - **Estágio 1**\n",
        " \n",
        "  1. É treinado um algoritmo $S$ que usa os parametros operacionais $W$ para estimar valores de sensores dos componentes com degradação natural para essas configurações de voo. Ou seja, dado um vetor $w\\ \\in\\ W$, o resultado de $S(w)$ é um vetor $x_c$ com valores aproximados ao respectivo $x_s\\ \\in\\ X_s$ sem degradação. Por conta do ruído nos dados originais, o valor poderá apresentar alguma variação $R_1$.<br/>\n",
        "\n",
        "  <!-- $$ S(W) = X_c\\ \\approx\\ X_s + R_1 $$ -->\n",
        "  $$ W\\ \\overset{S}{\\longrightarrow}\\ X_c\\ \\approx\\ X_s + R_1 $$ <br/>\n",
        "\n",
        "  2. O algoritmo usado em $S$ tem como entrada e saída vetores numéricos $[v_{n}^{1}, ..., v_{n}^{m}] \\subset\\ [0, 1]^{m}$, denominado vetor normalizado. Por conta disso, durante o treino, a função de normalização $N_w$ é calibrada para transformar os seus valores $W$ de entrada em um vetor compatível $W_{normal}\\ $ e a função $N_s$ é calibrada para transformar os valores de $X_s$ em $S_{normal\\ }$.<br/><br/>\n",
        "  <!-- $$ W_{normal} \\in\\ {[0, 1]}^{m_w}\\ =\\ N_w(W \\subset\\ \\mathbb{R}^{m_w}) $$ -->\n",
        "  <!-- $$ S_{normal} \\in\\ {[0, 1]}^{m_s} \\ =\\ N_s(X_s \\subset\\ \\mathbb{R}^{m_s}) $$ -->\n",
        "  $$ W\\ \\subset\\ \\mathbb{R}^{m_w}\\ \\overset{N_w}{\\longrightarrow}\\ W_{normal}\\ \\subset\\ {[0, 1]}^{m_w} $$ <br/>\n",
        "  $$ X_s \\subset\\ \\mathbb{R}^{m_s}\\ \\overset{N_s}{\\longrightarrow}\\ S_{normal}\\ \\subset\\ {[0, 1]}^{m_s} $$ <br/>\n",
        "  $$ W\\ \\overset{N_w}{\\longrightarrow} W_{normal}\\ \\ \\overset{S}{\\longrightarrow}\\ S_{normal} + R_1 $$ <br/>\n",
        "  3. Visto que $ S_{normal}\\ \\approx\\ S(W_{normal\\ }) $, durante a fase de inferência a função inversa $N_s^{-1}$ é usada para tranformar a saída do algoritmo $S$ em valores na mesma faixa de $X_s$.<br/><br/>\n",
        "\n",
        "  $$ W\\ \\overset{N_w}{\\longrightarrow} W_{normal}\\ \\ \\overset{S}{\\longrightarrow}\\ S_{normal\\ }\\ \\ \\overset{N_s^{-1}}{\\longrightarrow}\\ X_c$$ <br/>\n",
        "\n",
        " - **Estágio 2**\n",
        "\n",
        "  1. É usada uma métrica $D$ para o cálculo de distância entre cada valor $x_s$ e o respectivo $x_c$ calculado. Quanto maior a degradação do componente, maior será a distância entre os valores.\n",
        "\n",
        " $$ X_s,\\ X_c\\ \\overset{D}{\\longrightarrow}\\ \\Delta $$<br/>\n",
        "\n",
        "  2. O resultado $\\Delta$ é particionado em subconjuntos contendo somente dados de um mesmo ciclo para cada unidade. Cada subconjunto é então reduzido para estimar o progresso do desgaste geral através da função $P$.<br/><br/>\n",
        "\n",
        " $$ \\Delta_{\\ \\subset\\ ciclo}\\ \\overset{P}{\\longrightarrow}\\ \\Psi_{ciclo} $$<br/>\n",
        "\n",
        " - **Estágio 3**\n",
        "\n",
        "  1. Um segundo algoritmo $R$ é treinado para mapear os valores de $\\Psi_{ciclo}$ para a vida útil restante (RUL. Por conta do ruído dos sensores, os valores apresentarão variação $R_2$ em relação ao RUL real.\n",
        "\n",
        " $$ \\Psi_{ciclo}\\ \\overset{R}{\\longrightarrow}\\ RUL_{calculado} + R_2 $$<br/>"
      ]
    },
    {
      "cell_type": "markdown",
      "metadata": {
        "id": "G8gVzibFn_mS"
      },
      "source": [
        "### 04.03 Funções auxiliares"
      ]
    },
    {
      "cell_type": "code",
      "execution_count": null,
      "metadata": {
        "id": "_zkFwXDKn7QU"
      },
      "outputs": [],
      "source": [
        "def verifica_scores(original: np.ndarray, predicao: np.ndarray):\n",
        "    r2 = r2_score(original, predicao)\n",
        "    rmse = np.sqrt(mean_squared_error(original, predicao))\n",
        "    return rmse, r2\n",
        "\n",
        "\n",
        "def print_scores(info, original, predicao):\n",
        "    rmse, r2 = verifica_scores(original, predicao)\n",
        "    r2 = r2\n",
        "    print(f'{info} - RMSE: {rmse:.3f}, R2: {r2:.2f}')\n",
        "\n",
        "def print_data():\n",
        "    print(datetime.today().strftime('%Y-%m-%d %H:%M:%S'))\n",
        "\n",
        "def pega_reducao_percent(a, b):\n",
        "  100 * (a - b) / a\n",
        "\n",
        "def salvar_modelo(nome, modelo):\n",
        "    data = datetime.today().strftime('%Y%m%d_%H%M%S')\n",
        "    caminho_com_data = f'/{data}_{nome}.joblib'\n",
        "\n",
        "    print(f'Salvando modelo em {caminho_com_data}')\n",
        "    dump(modelo, caminho_com_data)\n",
        "\n",
        "    print('Copiando para Google Drive')\n",
        "    !rsync -h --progress $caminho_com_data $caminho_tcc/\n",
        "\n",
        "def plot_motores(original, predicao1, predicao2 = None, legendas = [\"14 sensores\", \"5 sensores\"]):\n",
        "    unidades = unidade_test.unique()\n",
        "    ax, p = plt.subplots(1, len(unidades), figsize=(15, 4))\n",
        "    for i, unit in enumerate(unidades):\n",
        "        k = unidade_test == unit\n",
        "        p[i].plot(original[k].reset_index().drop(columns=['index']), label=\"real\", alpha=1)\n",
        "        p[i].plot(predicao1[k], label=legendas[0], alpha=0.75)\n",
        "        if predicao2 is not None:\n",
        "          p[i].plot(predicao2[k], label=legendas[1], alpha=0.75)\n",
        "        p[i].set_title(f'Motor {unit}')\n",
        "        p[i].legend(loc='upper right', fancybox=True, shadow=True, ncol=1)\n",
        "        p[i].set(xlabel='ciclos de voo', ylabel='ciclos restantes (RUL)')\n"
      ]
    },
    {
      "cell_type": "markdown",
      "metadata": {
        "id": "rPDBWI_GbzoF"
      },
      "source": [
        "### 04.04 - Código auxiliar para treino do modelo S e R"
      ]
    },
    {
      "cell_type": "code",
      "execution_count": null,
      "metadata": {
        "id": "WH67qD7NzXJd"
      },
      "outputs": [],
      "source": [
        "def monta_pipeline_modelo_s(regressor: RegressorMixin):\n",
        "    tranformed_regressor = TransformedTargetRegressor(\n",
        "        regressor=regressor, transformer=MinMaxScaler())\n",
        "\n",
        "    pipeline_modelo_1 = Pipeline([\n",
        "        ('normaliza_perametros', MinMaxScaler()),\n",
        "        ('transform', tranformed_regressor)\n",
        "    ]\n",
        "    )\n",
        "    return pipeline_modelo_1\n",
        "\n",
        "\n",
        "def corte_treino_modelo_s(description: DataFrame, parametros_voo: DataFrame, dados_sensores: DataFrame, num_ciclos_iniciais: int):\n",
        "    ciclos_inicias = description['cycle'] <= num_ciclos_iniciais\n",
        "    corte_parametros_voo = parametros_voo[ciclos_inicias]\n",
        "    corte_dados_sensores = dados_sensores[ciclos_inicias]\n",
        "    return corte_parametros_voo, corte_dados_sensores\n",
        "\n",
        "ParametrosTreino = namedtuple('ParametrosTreino',\n",
        "                              field_names=['num_cortes', 'num_iteracoes', 'usar_todos_cores',\n",
        "                                           'distribuicoes', 'num_cores'],\n",
        "                              defaults=[5, 5, True, {}, None])\n",
        "\n",
        "\n",
        "def treina_modelo_s(pipeline_modelo_s: Pipeline, parametros: ParametrosTreino,\n",
        "                    corte_parametros_voo: DataFrame, corte_dados_sensores: DataFrame):\n",
        "    num_cores = -1 if parametros.usar_todos_cores else parametros.num_cores\n",
        "    treino_aleatorio = RandomizedSearchCV(pipeline_modelo_s, param_distributions=parametros.distribuicoes,\n",
        "                                          cv=KFold(n_splits = parametros.num_cortes, shuffle=True),\n",
        "                                          # cv=parametros.num_cortes,\n",
        "                                          n_iter=parametros.num_iteracoes, verbose=3,\n",
        "                                          random_state=42, n_jobs=num_cores, scoring='neg_root_mean_squared_error')\n",
        "\n",
        "    treino_aleatorio.fit(corte_parametros_voo, corte_dados_sensores)\n",
        "\n",
        "    return treino_aleatorio\n",
        "\n",
        "\n",
        "def calcula_distancia_por_ciclo(dados_sensores: DataFrame,\n",
        "                                dados_simulados: DataFrame, A: DataFrame, Y: DataFrame = None):\n",
        "    delta_quadrado = (dados_sensores - dados_simulados).pow(2)\n",
        "    grupo = ['unit', 'cycle']\n",
        "    datasets = [ A[grupo], delta_quadrado ]\n",
        "    if Y is not None:\n",
        "      datasets.append(Y)\n",
        "    X = pd.concat(datasets, axis = 1).groupby(grupo, group_keys=False)\n",
        "    media = X.mean().reset_index()\n",
        "    media[delta_quadrado.columns] = media[delta_quadrado.columns].pow(0.5)\n",
        "    return media\n",
        "\n",
        "\n",
        "def treina_modelo_r(algoritmo: RegressorMixin, parametros: ParametrosTreino,\n",
        "                    delta_ciclos: DataFrame, RUL: DataFrame):\n",
        "    num_cores = -1 if parametros.usar_todos_cores else parametros.num_cores\n",
        "    treino_aleatorio = RandomizedSearchCV(algoritmo, param_distributions=parametros.distribuicoes,\n",
        "                                          cv=KFold(n_splits = parametros.num_cortes, shuffle=True),\n",
        "                                          # cv=parametros.num_cortes,\n",
        "                                          n_iter=parametros.num_iteracoes, verbose=3,\n",
        "                                          random_state=42, n_jobs=num_cores, scoring='neg_root_mean_squared_error')\n",
        "\n",
        "    treino_aleatorio.fit(delta_ciclos, RUL)\n",
        "\n",
        "    return treino_aleatorio"
      ]
    },
    {
      "cell_type": "markdown",
      "metadata": {
        "id": "2EKCTN4Ixvtv"
      },
      "source": [
        "### 04.05 - Treino modelo sensores (1a fase)"
      ]
    },
    {
      "cell_type": "code",
      "execution_count": null,
      "metadata": {
        "id": "AxaN9_k-lryN"
      },
      "outputs": [],
      "source": [
        "corte_parametros_voo, corte_dados_sensores = corte_treino_modelo_s(A_dev, W_dev,\n",
        "                                                                   X_s_dev, num_ciclos_iniciais=5)"
      ]
    },
    {
      "cell_type": "code",
      "execution_count": null,
      "metadata": {
        "id": "DsiUFfx5fHaV"
      },
      "outputs": [],
      "source": [
        "# Quais algoritmos e modelos devemos treinar?\n",
        "\n",
        "# Random Forest\n",
        "treinar_modelo_sensor_rf = False\n",
        "treinar_modelo_rul_rf = False\n",
        "# Linear regression\n",
        "treinar_modelo_sensor_linear = False\n",
        "treinar_modelo_rul_linear = False\n",
        "# Ridge linear regression\n",
        "treinar_modelo_sensor_ridge = False\n",
        "treinar_modelo_rul_ridge = False\n",
        "\n",
        "if treinar_modelo_sensor_rf or treinar_modelo_sensor_linear or treinar_modelo_sensor_ridge or treinar_modelo_rul_rf or treinar_modelo_rul_linear or treinar_modelo_rul_ridge:\n",
        "  assert usar_gdrive, \"É necessário utilizar o gdrive para salvar os modelos\""
      ]
    },
    {
      "cell_type": "code",
      "execution_count": null,
      "metadata": {
        "id": "Bfk7I2uJskVb"
      },
      "outputs": [],
      "source": [
        "# Random Forest\n",
        "\n",
        "# no caso da RF, é melhor usar apenas 1 instancia e não todos os cores.\n",
        "# caso contrário a VM para de funcionar por memória.\n",
        "\n",
        "# também não é possível fazer muitas iterações, pois o Colab tem limite de tempo.\n",
        "\n",
        "if treinar_modelo_sensor_rf:\n",
        "    print_data()\n",
        "\n",
        "    pipeline_s_rf = monta_pipeline_modelo_s(RandomForestRegressor(max_depth = 10, n_jobs = -1))\n",
        "\n",
        "    parametros_s_rf = ParametrosTreino(usar_todos_cores = False, num_iteracoes=4, distribuicoes = {\n",
        "        'transform__regressor__n_estimators': list(range(500, 3001, 250)),\n",
        "    })\n",
        "\n",
        "    modelo_sensor_rf = treina_modelo_s(\n",
        "        pipeline_s_rf, parametros_s_rf, corte_parametros_voo, corte_dados_sensores)\n",
        "    print_data()\n",
        "    salvar_modelo(f'modelo_sensor_random_forest_{len(corte_dados_sensores.columns)}features', modelo_sensor_rf)\n",
        "    print_data()\n",
        " "
      ]
    },
    {
      "cell_type": "code",
      "execution_count": null,
      "metadata": {
        "id": "O-E2ds2Zovu_"
      },
      "outputs": [],
      "source": [
        "# Linear regression\n",
        "\n",
        "if treinar_modelo_sensor_linear:\n",
        "    pipeline_s_lr = monta_pipeline_modelo_s(LinearRegression())\n",
        "    \n",
        "    parametros_s_lr = ParametrosTreino(num_cortes=10)\n",
        "\n",
        "    modelo_sensor_linear = treina_modelo_s(\n",
        "        pipeline_s_lr, parametros_s_lr, corte_parametros_voo, corte_dados_sensores)\n",
        "    salvar_modelo(f'modelo_sensor_linear_{len(corte_dados_sensores.columns)}features', modelo_sensor_linear)\n"
      ]
    },
    {
      "cell_type": "code",
      "execution_count": null,
      "metadata": {
        "id": "36RPF5NRznO_"
      },
      "outputs": [],
      "source": [
        "# Ridge linear regression\n",
        "\n",
        "if treinar_modelo_sensor_ridge:\n",
        "    pipeline_rlr = monta_pipeline_modelo_s(Ridge())\n",
        "\n",
        "    parametros_rlr = ParametrosTreino(num_iteracoes = 10, num_cortes=10, distribuicoes = {\n",
        "        'transform__regressor__alpha': loguniform(1e-4, 1e2),\n",
        "    })\n",
        "\n",
        "    modelo_sensor_ridge = treina_modelo_s(\n",
        "        pipeline_rlr, parametros_rlr, corte_parametros_voo, corte_dados_sensores)\n",
        "    salvar_modelo(f'modelo_sensor_ridge_{len(corte_dados_sensores.columns)}features', modelo_sensor_ridge)\n"
      ]
    },
    {
      "cell_type": "code",
      "execution_count": null,
      "metadata": {
        "id": "oXPMNFBveFb0"
      },
      "outputs": [],
      "source": [
        "# teste dos modelos S\n",
        "\n",
        "# modelos S com todos os sensores (sem feature cycle e apenas 5 primeiros voos)\n",
        "binario_modelo_sensor_rf_14f  = '/20230415_095625_modelo_sensor_random_forest_14features.joblib'\n",
        "binario_modelo_sensor_linear_14f  = '/20230415_134506_modelo_sensor_linear_14features.joblib'\n",
        "binario_modelo_sensor_ridge_14f = '/20230415_134542_modelo_sensor_ridge_14features.joblib'\n",
        "\n",
        "if carregar_modelos_github:\n",
        "    !curl -L https://github.com/leomarssilva/projeto-final-engenharia-uff/releases/download/v0.0.1/20230415_095625_modelo_sensor_random_forest_14features.joblib > $binario_modelo_sensor_rf_14f\n",
        "    !curl -L https://github.com/leomarssilva/projeto-final-engenharia-uff/releases/download/v0.0.1/20230415_134506_modelo_sensor_linear_14features.joblib > $binario_modelo_sensor_linear_14f\n",
        "    !curl -L https://github.com/leomarssilva/projeto-final-engenharia-uff/releases/download/v0.0.1/20230415_134542_modelo_sensor_ridge_14features.joblib > $binario_modelo_sensor_ridge_14f\n",
        "else:\n",
        "    assert usar_gdrive, \"É necessário utilizar o gdrive para carregar os modelos\"\n",
        "    !rsync -h --progress /content/drive/MyDrive/tcc-machine-learning/$binario_modelo_sensor_rf_14f /\n",
        "    !rsync -h --progress /content/drive/MyDrive/tcc-machine-learning/$binario_modelo_sensor_linear_14f /\n",
        "    !rsync -h --progress /content/drive/MyDrive/tcc-machine-learning/$binario_modelo_sensor_ridge_14f /\n",
        "\n",
        "modelo_sensor_rf = load(binario_modelo_sensor_rf_14f)\n",
        "modelo_sensor_linear = load(binario_modelo_sensor_linear_14f)\n",
        "modelo_sensor_ridge = load(binario_modelo_sensor_ridge_14f)\n"
      ]
    },
    {
      "cell_type": "code",
      "execution_count": null,
      "metadata": {
        "id": "RsZbGDegl62d"
      },
      "outputs": [],
      "source": [
        "modelo_sensor_rf.best_estimator_.named_steps.transform.regressor"
      ]
    },
    {
      "cell_type": "code",
      "execution_count": null,
      "metadata": {
        "id": "ZUdoiY-gk57L"
      },
      "outputs": [],
      "source": [
        "## para escolha do melhor algoritmo para o modelo S, verificamos qual tem o melhor RMSE para os dados de teste\n",
        "\n",
        "corte_parametros_voo_test, corte_dados_sensores_test = corte_treino_modelo_s(A_test, W_test, X_s_test, num_ciclos_iniciais=5)\n",
        "\n",
        "print_scores('Sensor - RF - test', corte_dados_sensores_test, modelo_sensor_rf.predict(corte_parametros_voo_test))\n",
        "print_scores('Sensor - Linear - test', corte_dados_sensores_test, modelo_sensor_linear.predict(corte_parametros_voo_test))\n",
        "print_scores('Sensor - Ridge - test', corte_dados_sensores_test, modelo_sensor_ridge.predict(corte_parametros_voo_test))"
      ]
    },
    {
      "cell_type": "markdown",
      "metadata": {
        "id": "TumA59qoxhV3"
      },
      "source": [
        "### 04.06 - Treino modelo RUL -  (1a fase)"
      ]
    },
    {
      "cell_type": "code",
      "execution_count": null,
      "metadata": {
        "id": "HIyaY1HTx6Uv"
      },
      "outputs": [],
      "source": [
        "X_predict_dev = modelo_sensor_rf.predict(W_dev)\n",
        "# define o tipo de predição (para salvar no nome)\n",
        "# tipo_sensor = 'rg'\n",
        "tipo_sensor = 'rf'"
      ]
    },
    {
      "cell_type": "code",
      "execution_count": null,
      "metadata": {
        "id": "mrjyFLpYsLhE"
      },
      "outputs": [],
      "source": [
        "delta_ciclo = calcula_distancia_por_ciclo(X_s_dev, X_predict_dev, A_dev, Y_dev)\n",
        "\n",
        "delta_RUL = delta_ciclo['RUL']\n",
        "delta_ciclo = delta_ciclo.drop(columns=['unit', 'cycle', 'RUL'])"
      ]
    },
    {
      "cell_type": "code",
      "execution_count": null,
      "metadata": {
        "id": "FqYAoMsuv6L2"
      },
      "outputs": [],
      "source": [
        "if treinar_modelo_rul_rf:\n",
        "    pipeline_r_rf = RandomForestRegressor(max_depth = 10, n_jobs = -1)\n",
        "\n",
        "    parametros_r_rf = ParametrosTreino(usar_todos_cores = False, distribuicoes = {\n",
        "        'n_estimators': [ x for x in range(300, 4001, 300) ],\n",
        "    })\n",
        "\n",
        "    modelo_rul_rf = treina_modelo_r(pipeline_r_rf, parametros_r_rf, delta_ciclo, delta_RUL)\n",
        "    salvar_modelo(f'modelo_rul_s_{tipo_sensor}_r_rf_{len(delta_ciclo.columns)}feat', modelo_rul_rf)"
      ]
    },
    {
      "cell_type": "code",
      "execution_count": null,
      "metadata": {
        "id": "FPvZ0M6i_Ez0"
      },
      "outputs": [],
      "source": [
        "# ps = pd.Series(modelo_rul_rf.best_estimator_.feature_importances_, index = modelo_rul_rf.best_estimator_.feature_names_in_)\n",
        "# (ps * 100).sort_values(ascending=False)[0:5].sum()\n",
        "# ps.sort_values(ascending=False)"
      ]
    },
    {
      "cell_type": "code",
      "execution_count": null,
      "metadata": {
        "id": "iXwKTHiJy01d"
      },
      "outputs": [],
      "source": [
        "if treinar_modelo_rul_linear:\n",
        "    pipeline_r_lr = LinearRegression()\n",
        "\n",
        "    parametros_r_lr = ParametrosTreino()\n",
        "\n",
        "    modelo_url_linear = treina_modelo_r(pipeline_r_lr, parametros_r_lr, delta_ciclo, delta_RUL)\n",
        "    salvar_modelo(f'modelo_rul_s_{tipo_sensor}_r_linear_{len(delta_ciclo.columns)}feat', modelo_url_linear)"
      ]
    },
    {
      "cell_type": "code",
      "execution_count": null,
      "metadata": {
        "id": "F-Fb7dK4-Jf6"
      },
      "outputs": [],
      "source": [
        "# Ridge linear regression\n",
        "\n",
        "if treinar_modelo_rul_ridge:\n",
        "    pipeline_r_rlr = Ridge()\n",
        "\n",
        "    parametros_r_rlr = ParametrosTreino(num_iteracoes = 10, num_cortes=10, distribuicoes = {\n",
        "        'alpha': loguniform(1e-4, 1e2),\n",
        "    })\n",
        "\n",
        "    modelo_rul_ridge = treina_modelo_r(pipeline_r_rlr, parametros_r_rlr, delta_ciclo, delta_RUL)\n",
        "    salvar_modelo(f'modelo_rul_s_{tipo_sensor}_r_ridge_{len(delta_ciclo.columns)}feat', modelo_rul_ridge)"
      ]
    },
    {
      "cell_type": "code",
      "execution_count": null,
      "metadata": {
        "id": "dPoPRIhbL92I"
      },
      "outputs": [],
      "source": [
        "X_predict_test = modelo_sensor_rf.predict(W_test)\n"
      ]
    },
    {
      "cell_type": "code",
      "execution_count": null,
      "metadata": {
        "id": "JbgPI-VE7HCj"
      },
      "outputs": [],
      "source": [
        "delta_ciclo_test = calcula_distancia_por_ciclo(X_s_test, X_predict_test, A_test, Y_test)\n",
        "\n",
        "delta_RUL_test = delta_ciclo_test['RUL']\n",
        "unidade_test = delta_ciclo_test['unit']\n",
        "delta_ciclo_test = delta_ciclo_test.drop(columns=['unit', 'cycle', 'RUL'])"
      ]
    },
    {
      "cell_type": "code",
      "execution_count": null,
      "metadata": {
        "id": "5BITlliYXevJ"
      },
      "outputs": [],
      "source": [
        "#######\n",
        "\n",
        "# # usando RF para sensores\n",
        "binario_modelo_rul_rf_14f  = '/20230428_214436_modelo_rul_s_rf_r_rf_14feat.joblib'\n",
        "binario_modelo_rul_linear_14f  = '/20230428_215754_modelo_rul_s_rf_r_linear_14feat.joblib'\n",
        "binario_modelo_rul_ridge_14f = '/20230428_215757_modelo_rul_s_rf_r_ridge_14feat.joblib'\n",
        "\n",
        "if carregar_modelos_github:\n",
        "    !curl -L https://github.com/leomarssilva/projeto-final-engenharia-uff/releases/download/v0.0.1/20230428_214436_modelo_rul_s_rf_r_rf_14feat.joblib > $binario_modelo_rul_rf_14f\n",
        "    !curl -L https://github.com/leomarssilva/projeto-final-engenharia-uff/releases/download/v0.0.1/20230428_215754_modelo_rul_s_rf_r_linear_14feat.joblib > $binario_modelo_rul_linear_14f\n",
        "    !curl -L https://github.com/leomarssilva/projeto-final-engenharia-uff/releases/download/v0.0.1/20230428_215757_modelo_rul_s_rf_r_ridge_14feat.joblib > $binario_modelo_rul_ridge_14f\n",
        "else:\n",
        "    assert usar_gdrive, \"É necessário utilizar o gdrive para carregar os modelos\"\n",
        "    !rsync -h --progress /content/drive/MyDrive/tcc-machine-learning/$binario_modelo_rul_rf_14f /\n",
        "    !rsync -h --progress /content/drive/MyDrive/tcc-machine-learning/$binario_modelo_rul_linear_14f /\n",
        "    !rsync -h --progress /content/drive/MyDrive/tcc-machine-learning/$binario_modelo_rul_ridge_14f /\n",
        "\n",
        "modelo_rul_rf = load(binario_modelo_rul_rf_14f)\n",
        "modelo_rul_linear = load(binario_modelo_rul_linear_14f)\n",
        "modelo_rul_ridge = load(binario_modelo_rul_ridge_14f)\n"
      ]
    },
    {
      "cell_type": "code",
      "execution_count": null,
      "metadata": {
        "id": "RcWEU51IMqZk"
      },
      "outputs": [],
      "source": [
        "delta_ciclo_test_pred_rf  = modelo_rul_rf.predict(delta_ciclo_test)\n",
        "delta_ciclo_test_pred_lr  = modelo_rul_linear.predict(delta_ciclo_test)\n",
        "delta_ciclo_test_pred_rlr = modelo_rul_ridge.predict(delta_ciclo_test)"
      ]
    },
    {
      "cell_type": "code",
      "execution_count": null,
      "metadata": {
        "id": "Qj65mQahFIx_"
      },
      "outputs": [],
      "source": [
        "plot_motores(delta_RUL_test, delta_ciclo_test_pred_rf)"
      ]
    },
    {
      "cell_type": "code",
      "execution_count": null,
      "metadata": {
        "id": "nsfi4Lc9MHbt"
      },
      "outputs": [],
      "source": [
        "plot_motores(delta_RUL_test, delta_ciclo_test_pred_lr)"
      ]
    },
    {
      "cell_type": "code",
      "execution_count": null,
      "metadata": {
        "id": "Il-OqQDfMYxQ"
      },
      "outputs": [],
      "source": [
        "plot_motores(delta_RUL_test, delta_ciclo_test_pred_rlr)"
      ]
    },
    {
      "cell_type": "code",
      "execution_count": null,
      "metadata": {
        "id": "m-p_eMCVMblx"
      },
      "outputs": [],
      "source": [
        "print_scores('R - RF - Test', delta_RUL_test, delta_ciclo_test_pred_rf)\n",
        "print_scores('R - LR - Test', delta_RUL_test, delta_ciclo_test_pred_lr)\n",
        "print_scores('R - RLR - Test', delta_RUL_test, delta_ciclo_test_pred_rlr)"
      ]
    },
    {
      "cell_type": "code",
      "execution_count": null,
      "metadata": {
        "id": "cEe_Z81nNOhb"
      },
      "outputs": [],
      "source": [
        "ps = pd.Series(modelo_rul_rf.best_estimator_.feature_importances_, index = modelo_rul_rf.best_estimator_.feature_names_in_)\n",
        "ps.sort_values(ascending=False)[0:5].index"
      ]
    },
    {
      "cell_type": "markdown",
      "metadata": {
        "id": "_ktk-7coyPH8"
      },
      "source": [
        "### 04.07 - Treino modelo sensor (2a fase)"
      ]
    },
    {
      "cell_type": "code",
      "source": [
        "# Quais algoritmos e modelos devemos treinar?\n",
        "\n",
        "# Random Forest\n",
        "treinar_modelo_sensor_rf = False\n",
        "treinar_modelo_rul_rf = False\n",
        "# Linear regression\n",
        "treinar_modelo_sensor_linear = False\n",
        "treinar_modelo_rul_linear = False\n",
        "# Ridge linear regression\n",
        "treinar_modelo_sensor_ridge = False\n",
        "treinar_modelo_rul_ridge = False"
      ],
      "metadata": {
        "id": "-ggLO3dxSljS"
      },
      "execution_count": null,
      "outputs": []
    },
    {
      "cell_type": "code",
      "execution_count": null,
      "metadata": {
        "id": "POHSMLRWyOdy"
      },
      "outputs": [],
      "source": [
        "parametros = ['Total temperature at LPT outlet', 'Total temperature at HPT outlet',\n",
        "       'Total pressure at LPT outlet', 'Fuel flow', 'Physical fan speed']\n",
        "\n",
        "corte_parametros_voo, corte_dados_sensores = corte_treino_modelo_s(A_dev, W_dev, X_s_dev[parametros], num_ciclos_iniciais=5)"
      ]
    },
    {
      "cell_type": "code",
      "execution_count": null,
      "metadata": {
        "id": "tTR1hpbZC81Z"
      },
      "outputs": [],
      "source": [
        "# Random Forest\n",
        "\n",
        "# no caso da RF, é melhor usar apenas 1 instancia e não todos os cores.\n",
        "# caso contrário a VM para de funcionar por memória.\n",
        "\n",
        "# também não é possível fazer muitas iterações, pois o Colab tem limite de tempo.\n",
        "\n",
        "if treinar_modelo_sensor_rf:\n",
        "    print_data()\n",
        "\n",
        "    pipeline_s_rf = monta_pipeline_modelo_s(RandomForestRegressor(max_depth = 10, n_jobs = -1))\n",
        "\n",
        "    parametros_s_rf = ParametrosTreino(usar_todos_cores = False, num_iteracoes=4, distribuicoes = {\n",
        "        'transform__regressor__n_estimators': list(range(500, 3001, 250)),\n",
        "    })\n",
        "\n",
        "    modelo_sensor_rf = treina_modelo_s(\n",
        "        pipeline_s_rf, parametros_s_rf, corte_parametros_voo, corte_dados_sensores)\n",
        "    print_data()\n",
        "    salvar_modelo(f'modelo_sensor_random_forest_{len(corte_dados_sensores.columns)}features', modelo_sensor_rf)\n",
        "    print_data()\n",
        " "
      ]
    },
    {
      "cell_type": "code",
      "execution_count": null,
      "metadata": {
        "id": "MNxxFasMDN8W"
      },
      "outputs": [],
      "source": [
        "# Linear regression\n",
        "\n",
        "if treinar_modelo_sensor_linear:\n",
        "    pipeline_s_lr = monta_pipeline_modelo_s(LinearRegression())\n",
        "    \n",
        "    parametros_s_lr = ParametrosTreino(num_cortes=10)\n",
        "\n",
        "    modelo_sensor_linear = treina_modelo_s(\n",
        "        pipeline_s_lr, parametros_s_lr, corte_parametros_voo, corte_dados_sensores)\n",
        "    salvar_modelo(f'modelo_sensor_linear_{len(corte_dados_sensores.columns)}features', modelo_sensor_linear)\n"
      ]
    },
    {
      "cell_type": "code",
      "execution_count": null,
      "metadata": {
        "id": "ov02AKk1DSU1"
      },
      "outputs": [],
      "source": [
        "# Ridge linear regression\n",
        "\n",
        "if treinar_modelo_sensor_ridge:\n",
        "    pipeline_rlr = monta_pipeline_modelo_s(Ridge())\n",
        "\n",
        "    parametros_rlr = ParametrosTreino(num_iteracoes = 10, num_cortes=10, distribuicoes = {\n",
        "        'transform__regressor__alpha': loguniform(1e-4, 1e2),\n",
        "    })\n",
        "\n",
        "    modelo_sensor_ridge = treina_modelo_s(\n",
        "        pipeline_rlr, parametros_rlr, corte_parametros_voo, corte_dados_sensores)\n",
        "    salvar_modelo(f'modelo_sensor_ridge_{len(corte_dados_sensores.columns)}features', modelo_sensor_ridge)\n"
      ]
    },
    {
      "cell_type": "code",
      "execution_count": null,
      "metadata": {
        "id": "bhkhGq6IDd-I"
      },
      "outputs": [],
      "source": [
        "# teste dos modelos S\n",
        "\n",
        "# modelos S com todos os sensores (sem feature cycle e apenas 5 primeiros voos)\n",
        "binario_modelo_sensor_rf_5f  = '/20230429_070900_modelo_sensor_random_forest_5features.joblib'\n",
        "binario_modelo_sensor_linear_5f  = '/20230429_070913_modelo_sensor_linear_5features.joblib'\n",
        "binario_modelo_sensor_ridge_5f = '/20230429_070923_modelo_sensor_ridge_5features.joblib'\n",
        "\n",
        "\n",
        "if carregar_modelos_github:\n",
        "    !curl -L https://github.com/leomarssilva/projeto-final-engenharia-uff/releases/download/v0.0.1/20230429_070900_modelo_sensor_random_forest_5features.joblib > $binario_modelo_sensor_rf_5f\n",
        "    !curl -L https://github.com/leomarssilva/projeto-final-engenharia-uff/releases/download/v0.0.1/20230429_070913_modelo_sensor_linear_5features.joblib > $binario_modelo_sensor_linear_5f\n",
        "    !curl -L https://github.com/leomarssilva/projeto-final-engenharia-uff/releases/download/v0.0.1/20230429_070923_modelo_sensor_ridge_5features.joblib > $binario_modelo_sensor_ridge_5f\n",
        "else:\n",
        "    assert usar_gdrive, \"É necessário utilizar o gdrive para carregar os modelos\"\n",
        "    !rsync -h --progress /content/drive/MyDrive/tcc-machine-learning/$binario_modelo_sensor_rf_5f /\n",
        "    !rsync -h --progress /content/drive/MyDrive/tcc-machine-learning/$binario_modelo_sensor_linear_5f /\n",
        "    !rsync -h --progress /content/drive/MyDrive/tcc-machine-learning/$binario_modelo_sensor_ridge_5f /\n",
        "\n",
        "modelo_5sensor_rf = load(binario_modelo_sensor_rf_5f)\n",
        "modelo_5sensor_linear = load(binario_modelo_sensor_linear_5f)\n",
        "modelo_5sensor_ridge = load(binario_modelo_sensor_ridge_5f)\n"
      ]
    },
    {
      "cell_type": "code",
      "execution_count": null,
      "metadata": {
        "id": "RMUJ6A8RDxR2"
      },
      "outputs": [],
      "source": [
        "## para escolha do melhor algoritmo para o modelo S, verificamos qual tem o melhor RMSE para os dados de teste\n",
        "\n",
        "corte_parametros_voo_test, corte_dados_sensores_test = corte_treino_modelo_s(A_test, W_test, X_s_test[parametros], num_ciclos_iniciais=5)\n",
        "\n",
        "print_scores('Sensor - RF - test', corte_dados_sensores_test, modelo_5sensor_rf.predict(corte_parametros_voo_test))\n",
        "print_scores('Sensor - Linear - test', corte_dados_sensores_test, modelo_5sensor_linear.predict(corte_parametros_voo_test))\n",
        "print_scores('Sensor - Ridge - test', corte_dados_sensores_test, modelo_5sensor_ridge.predict(corte_parametros_voo_test))"
      ]
    },
    {
      "cell_type": "markdown",
      "metadata": {
        "id": "bqVBPC-WyT8J"
      },
      "source": [
        "### 04.08 - Treino modelo RUL (2a fase)"
      ]
    },
    {
      "cell_type": "code",
      "execution_count": null,
      "metadata": {
        "id": "p5NJ5zs-yWp4"
      },
      "outputs": [],
      "source": [
        "X_predict_dev = modelo_5sensor_rf.predict(W_dev)\n",
        "# define o tipo de predição (para salvar no nome)\n",
        "tipo_sensor = 'rf'"
      ]
    },
    {
      "cell_type": "code",
      "execution_count": null,
      "metadata": {
        "id": "dAhqDAgzEUXp"
      },
      "outputs": [],
      "source": [
        "delta_ciclo = calcula_distancia_por_ciclo(X_s_dev[parametros], X_predict_dev, A_dev, Y_dev)\n",
        "\n",
        "delta_RUL = delta_ciclo['RUL']\n",
        "delta_ciclo = delta_ciclo.drop(columns=['unit', 'cycle', 'RUL'])"
      ]
    },
    {
      "cell_type": "code",
      "execution_count": null,
      "metadata": {
        "id": "OVnVCu42EZN6"
      },
      "outputs": [],
      "source": [
        "if treinar_modelo_rul_rf:\n",
        "    pipeline_r_rf = RandomForestRegressor(max_depth = 10, n_jobs = -1)\n",
        "\n",
        "    parametros_r_rf = ParametrosTreino(usar_todos_cores = False, distribuicoes = {\n",
        "        'n_estimators': [ x for x in range(300, 4001, 300) ],\n",
        "    })\n",
        "\n",
        "    modelo_rul_rf = treina_modelo_r(pipeline_r_rf, parametros_r_rf, delta_ciclo, delta_RUL)\n",
        "    salvar_modelo(f'modelo_rul_s_{tipo_sensor}_r_rf_{len(delta_ciclo.columns)}feat', modelo_rul_rf)"
      ]
    },
    {
      "cell_type": "code",
      "execution_count": null,
      "metadata": {
        "id": "ba4EUSfBEfFo"
      },
      "outputs": [],
      "source": [
        "if treinar_modelo_rul_linear:\n",
        "    pipeline_r_lr = LinearRegression()\n",
        "\n",
        "    parametros_r_lr = ParametrosTreino()\n",
        "\n",
        "    modelo_url_linear = treina_modelo_r(pipeline_r_lr, parametros_r_lr, delta_ciclo, delta_RUL)\n",
        "    salvar_modelo(f'modelo_rul_s_{tipo_sensor}_r_linear_{len(delta_ciclo.columns)}feat', modelo_url_linear)"
      ]
    },
    {
      "cell_type": "code",
      "execution_count": null,
      "metadata": {
        "id": "uQ8OF2miEl1W"
      },
      "outputs": [],
      "source": [
        "# Ridge linear regression\n",
        "\n",
        "if treinar_modelo_rul_ridge:\n",
        "    pipeline_r_rlr = Ridge()\n",
        "\n",
        "    parametros_r_rlr = ParametrosTreino(num_iteracoes = 10, num_cortes=10, distribuicoes = {\n",
        "        'alpha': loguniform(1e-4, 1e2),\n",
        "    })\n",
        "\n",
        "    modelo_rul_ridge = treina_modelo_r(pipeline_r_rlr, parametros_r_rlr, delta_ciclo, delta_RUL)\n",
        "    salvar_modelo(f'modelo_rul_s_{tipo_sensor}_r_ridge_{len(delta_ciclo.columns)}feat', modelo_rul_ridge)"
      ]
    },
    {
      "cell_type": "code",
      "execution_count": null,
      "metadata": {
        "id": "YuT01KvhEtEA"
      },
      "outputs": [],
      "source": [
        "X_predict_test = modelo_5sensor_rf.predict(W_test)\n"
      ]
    },
    {
      "cell_type": "code",
      "source": [
        "modelo_5sensor_rf.best_estimator_.named_steps.transform.regressor"
      ],
      "metadata": {
        "id": "DQdMpabRcrwm"
      },
      "execution_count": null,
      "outputs": []
    },
    {
      "cell_type": "code",
      "source": [
        "delta_ciclo_test = calcula_distancia_por_ciclo(X_s_test[parametros], X_predict_test, A_test, Y_test)\n",
        "\n",
        "delta_RUL_test = delta_ciclo_test['RUL']\n",
        "unidade_test = delta_ciclo_test['unit']\n",
        "delta_ciclo_test = delta_ciclo_test.drop(columns=['unit', 'cycle', 'RUL'])"
      ],
      "metadata": {
        "id": "sclEWGAufh0L"
      },
      "execution_count": null,
      "outputs": []
    },
    {
      "cell_type": "code",
      "source": [
        "#######\n",
        "\n",
        "# # usando RF para sensores\n",
        "binario_modelo_rul_rf_5f  = '/20230429_143436_modelo_rul_s_rf_r_rf_5feat.joblib'\n",
        "binario_modelo_rul_linear_5f  = '/20230429_143437_modelo_rul_s_rf_r_linear_5feat.joblib'\n",
        "binario_modelo_rul_ridge_5f = '/20230429_143438_modelo_rul_s_rf_r_ridge_5feat.joblib'\n",
        "\n",
        "if carregar_modelos_github:\n",
        "    !curl -L https://github.com/leomarssilva/projeto-final-engenharia-uff/releases/download/v0.0.1/20230429_143436_modelo_rul_s_rf_r_rf_5feat.joblib > $binario_modelo_rul_rf_5f\n",
        "    !curl -L https://github.com/leomarssilva/projeto-final-engenharia-uff/releases/download/v0.0.1/20230429_143437_modelo_rul_s_rf_r_linear_5feat.joblib > $binario_modelo_rul_linear_5f\n",
        "    !curl -L https://github.com/leomarssilva/projeto-final-engenharia-uff/releases/download/v0.0.1/20230429_143438_modelo_rul_s_rf_r_ridge_5feat.joblib > $binario_modelo_rul_ridge_5f\n",
        "else:\n",
        "    assert usar_gdrive, \"É necessário utilizar o gdrive para carregar os modelos\"\n",
        "    !rsync -h --progress /content/drive/MyDrive/tcc-machine-learning/$binario_modelo_rul_rf_5f /\n",
        "    !rsync -h --progress /content/drive/MyDrive/tcc-machine-learning/$binario_modelo_rul_linear_5f /\n",
        "    !rsync -h --progress /content/drive/MyDrive/tcc-machine-learning/$binario_modelo_rul_ridge_5f /\n",
        "\n",
        "modelo_5rul_rf = load(binario_modelo_rul_rf_5f)\n",
        "modelo_5rul_linear = load(binario_modelo_rul_linear_5f)\n",
        "modelo_5rul_ridge = load(binario_modelo_rul_ridge_5f)\n"
      ],
      "metadata": {
        "id": "axyvHNPcfqg0"
      },
      "execution_count": null,
      "outputs": []
    },
    {
      "cell_type": "code",
      "source": [
        "delta_ciclo_test_pred_rf5  = modelo_5rul_rf.predict(delta_ciclo_test)\n",
        "delta_ciclo_test_pred_lr5  = modelo_5rul_linear.predict(delta_ciclo_test)\n",
        "delta_ciclo_test_pred_rlr5 = modelo_5rul_ridge.predict(delta_ciclo_test)"
      ],
      "metadata": {
        "id": "PUUhqXBIgDO8"
      },
      "execution_count": null,
      "outputs": []
    },
    {
      "cell_type": "code",
      "source": [
        "print_scores('R - RF - Test', delta_RUL_test, delta_ciclo_test_pred_rf5)\n",
        "print_scores('R - LR - Test', delta_RUL_test, delta_ciclo_test_pred_lr5)\n",
        "print_scores('R - RLR - Test', delta_RUL_test, delta_ciclo_test_pred_rlr5)"
      ],
      "metadata": {
        "id": "1jdBIYWXgP-J"
      },
      "execution_count": null,
      "outputs": []
    },
    {
      "cell_type": "code",
      "source": [
        "plot_motores(delta_RUL_test, delta_ciclo_test_pred_rf, delta_ciclo_test_pred_rf5)"
      ],
      "metadata": {
        "id": "fYFu-chIgjWP"
      },
      "execution_count": null,
      "outputs": []
    },
    {
      "cell_type": "code",
      "source": [
        "plot_motores(delta_RUL_test, delta_ciclo_test_pred_lr, delta_ciclo_test_pred_lr5)"
      ],
      "metadata": {
        "id": "VVS97poHgomW"
      },
      "execution_count": null,
      "outputs": []
    },
    {
      "cell_type": "code",
      "source": [
        "plot_motores(delta_RUL_test, delta_ciclo_test_pred_rlr, delta_ciclo_test_pred_rlr5)"
      ],
      "metadata": {
        "id": "kpSvm62cgtZN"
      },
      "execution_count": null,
      "outputs": []
    },
    {
      "cell_type": "code",
      "source": [
        "plot_motores(delta_RUL_test, delta_ciclo_test_pred_lr, delta_ciclo_test_pred_rlr, [\"linear\", \"ridge\"])"
      ],
      "metadata": {
        "id": "Rfd9nreGlH56"
      },
      "execution_count": null,
      "outputs": []
    },
    {
      "cell_type": "code",
      "source": [
        "plot_motores(delta_RUL_test, delta_ciclo_test_pred_lr5, delta_ciclo_test_pred_rlr5, [\"linear\", \"ridge\"])"
      ],
      "metadata": {
        "id": "Vhwv4aIEgv2h"
      },
      "execution_count": null,
      "outputs": []
    },
    {
      "cell_type": "code",
      "source": [
        "modelo_rul_rf.best_estimator_"
      ],
      "metadata": {
        "id": "1vVkJZJvp1fc"
      },
      "execution_count": null,
      "outputs": []
    },
    {
      "cell_type": "code",
      "source": [
        "modelo_5rul_rf.best_estimator_"
      ],
      "metadata": {
        "id": "QOLhLE3PlOnf"
      },
      "execution_count": null,
      "outputs": []
    },
    {
      "cell_type": "code",
      "source": [
        "modelo_rul_ridge.estimator.alpha"
      ],
      "metadata": {
        "id": "QuwAq-wQqAJC"
      },
      "execution_count": null,
      "outputs": []
    },
    {
      "cell_type": "code",
      "source": [
        "modelo_5rul_ridge.estimator.alpha"
      ],
      "metadata": {
        "id": "G16CAUJbpHs4"
      },
      "execution_count": null,
      "outputs": []
    },
    {
      "cell_type": "code",
      "source": [
        "plot_motores(delta_RUL_test, delta_ciclo_test_pred_rf5, delta_ciclo_test_pred_lr5, [\"F. aleatória\", \"R. linear\"])"
      ],
      "metadata": {
        "id": "GeyjUdoFu3Mt"
      },
      "execution_count": null,
      "outputs": []
    },
    {
      "cell_type": "code",
      "source": [],
      "metadata": {
        "id": "bpg-2Hs1u9Of"
      },
      "execution_count": null,
      "outputs": []
    }
  ],
  "metadata": {
    "colab": {
      "collapsed_sections": [
        "B6tmTUxrOnj5",
        "2WZzfmOJPCIy",
        "6CsSc9wjP0La"
      ],
      "provenance": []
    },
    "kernelspec": {
      "display_name": "Python 3",
      "name": "python3"
    },
    "language_info": {
      "name": "python"
    }
  },
  "nbformat": 4,
  "nbformat_minor": 0
}